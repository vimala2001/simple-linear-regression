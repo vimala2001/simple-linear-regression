{
  "nbformat": 4,
  "nbformat_minor": 0,
  "metadata": {
    "colab": {
      "name": "Finding horse power using simple linear regression.ipynb",
      "provenance": [],
      "authorship_tag": "ABX9TyPNg5dGqRN9yK2pDrvnspIP",
      "include_colab_link": true
    },
    "kernelspec": {
      "name": "python3",
      "display_name": "Python 3"
    },
    "language_info": {
      "name": "python"
    }
  },
  "cells": [
    {
      "cell_type": "markdown",
      "metadata": {
        "id": "view-in-github",
        "colab_type": "text"
      },
      "source": [
        "<a href=\"https://colab.research.google.com/github/vimala2001/simple-linear-regression/blob/main/Finding_horse_power_using_simple_linear_regression.ipynb\" target=\"_parent\"><img src=\"https://colab.research.google.com/assets/colab-badge.svg\" alt=\"Open In Colab\"/></a>"
      ]
    },
    {
      "cell_type": "code",
      "metadata": {
        "id": "lmwKzqleeXwm"
      },
      "source": [
        "import pandas as pd\n",
        "import numpy as np\n",
        "import matplotlib.pyplot as plt\n",
        "from sklearn.model_selection import train_test_split\n",
        "from sklearn.linear_model import LinearRegression\n",
        "from sklearn.metrics import r2_score,mean_squared_error\n",
        "%matplotlib inline"
      ],
      "execution_count": 1,
      "outputs": []
    },
    {
      "cell_type": "code",
      "metadata": {
        "colab": {
          "base_uri": "https://localhost:8080/",
          "height": 360
        },
        "id": "RiD_686JekEZ",
        "outputId": "12c0b7c0-d23f-402f-c4f2-d61c2a1da6b5"
      },
      "source": [
        "df = pd.read_csv('/content/data.csv') # Importing the dataset\n",
        "df.sample(5) #previewing dataset"
      ],
      "execution_count": 5,
      "outputs": [
        {
          "output_type": "execute_result",
          "data": {
            "text/html": [
              "<div>\n",
              "<style scoped>\n",
              "    .dataframe tbody tr th:only-of-type {\n",
              "        vertical-align: middle;\n",
              "    }\n",
              "\n",
              "    .dataframe tbody tr th {\n",
              "        vertical-align: top;\n",
              "    }\n",
              "\n",
              "    .dataframe thead th {\n",
              "        text-align: right;\n",
              "    }\n",
              "</style>\n",
              "<table border=\"1\" class=\"dataframe\">\n",
              "  <thead>\n",
              "    <tr style=\"text-align: right;\">\n",
              "      <th></th>\n",
              "      <th>Make</th>\n",
              "      <th>Model</th>\n",
              "      <th>Year</th>\n",
              "      <th>Engine Fuel Type</th>\n",
              "      <th>Engine HP</th>\n",
              "      <th>Engine Cylinders</th>\n",
              "      <th>Transmission Type</th>\n",
              "      <th>Driven_Wheels</th>\n",
              "      <th>Number of Doors</th>\n",
              "      <th>Market Category</th>\n",
              "      <th>Vehicle Size</th>\n",
              "      <th>Vehicle Style</th>\n",
              "      <th>highway MPG</th>\n",
              "      <th>city mpg</th>\n",
              "      <th>Popularity</th>\n",
              "      <th>MSRP</th>\n",
              "    </tr>\n",
              "  </thead>\n",
              "  <tbody>\n",
              "    <tr>\n",
              "      <th>10647</th>\n",
              "      <td>Ford</td>\n",
              "      <td>Transit Connect</td>\n",
              "      <td>2015</td>\n",
              "      <td>regular unleaded</td>\n",
              "      <td>169.0</td>\n",
              "      <td>4.0</td>\n",
              "      <td>AUTOMATIC</td>\n",
              "      <td>front wheel drive</td>\n",
              "      <td>4.0</td>\n",
              "      <td>NaN</td>\n",
              "      <td>Compact</td>\n",
              "      <td>Passenger Minivan</td>\n",
              "      <td>28</td>\n",
              "      <td>20</td>\n",
              "      <td>5657</td>\n",
              "      <td>25185</td>\n",
              "    </tr>\n",
              "    <tr>\n",
              "      <th>8171</th>\n",
              "      <td>Dodge</td>\n",
              "      <td>Ram Pickup 1500</td>\n",
              "      <td>2009</td>\n",
              "      <td>flex-fuel (unleaded/E85)</td>\n",
              "      <td>310.0</td>\n",
              "      <td>8.0</td>\n",
              "      <td>AUTOMATIC</td>\n",
              "      <td>rear wheel drive</td>\n",
              "      <td>4.0</td>\n",
              "      <td>Flex Fuel</td>\n",
              "      <td>Large</td>\n",
              "      <td>Crew Cab Pickup</td>\n",
              "      <td>19</td>\n",
              "      <td>14</td>\n",
              "      <td>1851</td>\n",
              "      <td>29530</td>\n",
              "    </tr>\n",
              "    <tr>\n",
              "      <th>7668</th>\n",
              "      <td>Toyota</td>\n",
              "      <td>Prius c</td>\n",
              "      <td>2015</td>\n",
              "      <td>regular unleaded</td>\n",
              "      <td>99.0</td>\n",
              "      <td>4.0</td>\n",
              "      <td>AUTOMATIC</td>\n",
              "      <td>front wheel drive</td>\n",
              "      <td>4.0</td>\n",
              "      <td>Hatchback,Hybrid</td>\n",
              "      <td>Compact</td>\n",
              "      <td>4dr Hatchback</td>\n",
              "      <td>46</td>\n",
              "      <td>53</td>\n",
              "      <td>2031</td>\n",
              "      <td>21765</td>\n",
              "    </tr>\n",
              "    <tr>\n",
              "      <th>8904</th>\n",
              "      <td>Volvo</td>\n",
              "      <td>S60</td>\n",
              "      <td>2016</td>\n",
              "      <td>regular unleaded</td>\n",
              "      <td>302.0</td>\n",
              "      <td>4.0</td>\n",
              "      <td>AUTOMATIC</td>\n",
              "      <td>front wheel drive</td>\n",
              "      <td>4.0</td>\n",
              "      <td>Luxury,High-Performance</td>\n",
              "      <td>Midsize</td>\n",
              "      <td>Sedan</td>\n",
              "      <td>33</td>\n",
              "      <td>23</td>\n",
              "      <td>870</td>\n",
              "      <td>43300</td>\n",
              "    </tr>\n",
              "    <tr>\n",
              "      <th>4676</th>\n",
              "      <td>Ford</td>\n",
              "      <td>Fiesta</td>\n",
              "      <td>2016</td>\n",
              "      <td>regular unleaded</td>\n",
              "      <td>120.0</td>\n",
              "      <td>4.0</td>\n",
              "      <td>MANUAL</td>\n",
              "      <td>front wheel drive</td>\n",
              "      <td>4.0</td>\n",
              "      <td>Hatchback</td>\n",
              "      <td>Compact</td>\n",
              "      <td>4dr Hatchback</td>\n",
              "      <td>35</td>\n",
              "      <td>27</td>\n",
              "      <td>5657</td>\n",
              "      <td>14880</td>\n",
              "    </tr>\n",
              "  </tbody>\n",
              "</table>\n",
              "</div>"
            ],
            "text/plain": [
              "         Make            Model  Year  ... city mpg  Popularity   MSRP\n",
              "10647    Ford  Transit Connect  2015  ...       20        5657  25185\n",
              "8171    Dodge  Ram Pickup 1500  2009  ...       14        1851  29530\n",
              "7668   Toyota          Prius c  2015  ...       53        2031  21765\n",
              "8904    Volvo              S60  2016  ...       23         870  43300\n",
              "4676     Ford           Fiesta  2016  ...       27        5657  14880\n",
              "\n",
              "[5 rows x 16 columns]"
            ]
          },
          "metadata": {},
          "execution_count": 5
        }
      ]
    },
    {
      "cell_type": "code",
      "metadata": {
        "colab": {
          "base_uri": "https://localhost:8080/"
        },
        "id": "h0R3VtPae2eK",
        "outputId": "40f5b475-695c-4fd6-b970-793198a0f448"
      },
      "source": [
        "print(df.shape) # view the dataset shape\n",
        "\n",
        "print(df['Make'].value_counts()) # viewing Car companies with theirs car number"
      ],
      "execution_count": 6,
      "outputs": [
        {
          "output_type": "stream",
          "name": "stdout",
          "text": [
            "(11914, 16)\n",
            "Chevrolet        1123\n",
            "Ford              881\n",
            "Volkswagen        809\n",
            "Toyota            746\n",
            "Dodge             626\n",
            "Nissan            558\n",
            "GMC               515\n",
            "Honda             449\n",
            "Mazda             423\n",
            "Cadillac          397\n",
            "Mercedes-Benz     353\n",
            "Suzuki            351\n",
            "BMW               334\n",
            "Infiniti          330\n",
            "Audi              328\n",
            "Hyundai           303\n",
            "Volvo             281\n",
            "Subaru            256\n",
            "Acura             252\n",
            "Kia               231\n",
            "Mitsubishi        213\n",
            "Lexus             202\n",
            "Buick             196\n",
            "Chrysler          187\n",
            "Pontiac           186\n",
            "Lincoln           164\n",
            "Oldsmobile        150\n",
            "Land Rover        143\n",
            "Porsche           136\n",
            "Saab              111\n",
            "Aston Martin       93\n",
            "Plymouth           82\n",
            "Bentley            74\n",
            "Ferrari            69\n",
            "FIAT               62\n",
            "Scion              60\n",
            "Maserati           58\n",
            "Lamborghini        52\n",
            "Rolls-Royce        31\n",
            "Lotus              29\n",
            "Tesla              18\n",
            "HUMMER             17\n",
            "Maybach            16\n",
            "Alfa Romeo          5\n",
            "McLaren             5\n",
            "Bugatti             3\n",
            "Genesis             3\n",
            "Spyker              3\n",
            "Name: Make, dtype: int64\n"
          ]
        }
      ]
    },
    {
      "cell_type": "code",
      "metadata": {
        "colab": {
          "base_uri": "https://localhost:8080/",
          "height": 297
        },
        "id": "9IN40DfhgK8b",
        "outputId": "04efb9cb-6e1c-4e2f-ca81-1a0670bee299"
      },
      "source": [
        "df.describe( )\n"
      ],
      "execution_count": 7,
      "outputs": [
        {
          "output_type": "execute_result",
          "data": {
            "text/html": [
              "<div>\n",
              "<style scoped>\n",
              "    .dataframe tbody tr th:only-of-type {\n",
              "        vertical-align: middle;\n",
              "    }\n",
              "\n",
              "    .dataframe tbody tr th {\n",
              "        vertical-align: top;\n",
              "    }\n",
              "\n",
              "    .dataframe thead th {\n",
              "        text-align: right;\n",
              "    }\n",
              "</style>\n",
              "<table border=\"1\" class=\"dataframe\">\n",
              "  <thead>\n",
              "    <tr style=\"text-align: right;\">\n",
              "      <th></th>\n",
              "      <th>Year</th>\n",
              "      <th>Engine HP</th>\n",
              "      <th>Engine Cylinders</th>\n",
              "      <th>Number of Doors</th>\n",
              "      <th>highway MPG</th>\n",
              "      <th>city mpg</th>\n",
              "      <th>Popularity</th>\n",
              "      <th>MSRP</th>\n",
              "    </tr>\n",
              "  </thead>\n",
              "  <tbody>\n",
              "    <tr>\n",
              "      <th>count</th>\n",
              "      <td>11914.000000</td>\n",
              "      <td>11845.00000</td>\n",
              "      <td>11884.000000</td>\n",
              "      <td>11908.000000</td>\n",
              "      <td>11914.000000</td>\n",
              "      <td>11914.000000</td>\n",
              "      <td>11914.000000</td>\n",
              "      <td>1.191400e+04</td>\n",
              "    </tr>\n",
              "    <tr>\n",
              "      <th>mean</th>\n",
              "      <td>2010.384338</td>\n",
              "      <td>249.38607</td>\n",
              "      <td>5.628829</td>\n",
              "      <td>3.436093</td>\n",
              "      <td>26.637485</td>\n",
              "      <td>19.733255</td>\n",
              "      <td>1554.911197</td>\n",
              "      <td>4.059474e+04</td>\n",
              "    </tr>\n",
              "    <tr>\n",
              "      <th>std</th>\n",
              "      <td>7.579740</td>\n",
              "      <td>109.19187</td>\n",
              "      <td>1.780559</td>\n",
              "      <td>0.881315</td>\n",
              "      <td>8.863001</td>\n",
              "      <td>8.987798</td>\n",
              "      <td>1441.855347</td>\n",
              "      <td>6.010910e+04</td>\n",
              "    </tr>\n",
              "    <tr>\n",
              "      <th>min</th>\n",
              "      <td>1990.000000</td>\n",
              "      <td>55.00000</td>\n",
              "      <td>0.000000</td>\n",
              "      <td>2.000000</td>\n",
              "      <td>12.000000</td>\n",
              "      <td>7.000000</td>\n",
              "      <td>2.000000</td>\n",
              "      <td>2.000000e+03</td>\n",
              "    </tr>\n",
              "    <tr>\n",
              "      <th>25%</th>\n",
              "      <td>2007.000000</td>\n",
              "      <td>170.00000</td>\n",
              "      <td>4.000000</td>\n",
              "      <td>2.000000</td>\n",
              "      <td>22.000000</td>\n",
              "      <td>16.000000</td>\n",
              "      <td>549.000000</td>\n",
              "      <td>2.100000e+04</td>\n",
              "    </tr>\n",
              "    <tr>\n",
              "      <th>50%</th>\n",
              "      <td>2015.000000</td>\n",
              "      <td>227.00000</td>\n",
              "      <td>6.000000</td>\n",
              "      <td>4.000000</td>\n",
              "      <td>26.000000</td>\n",
              "      <td>18.000000</td>\n",
              "      <td>1385.000000</td>\n",
              "      <td>2.999500e+04</td>\n",
              "    </tr>\n",
              "    <tr>\n",
              "      <th>75%</th>\n",
              "      <td>2016.000000</td>\n",
              "      <td>300.00000</td>\n",
              "      <td>6.000000</td>\n",
              "      <td>4.000000</td>\n",
              "      <td>30.000000</td>\n",
              "      <td>22.000000</td>\n",
              "      <td>2009.000000</td>\n",
              "      <td>4.223125e+04</td>\n",
              "    </tr>\n",
              "    <tr>\n",
              "      <th>max</th>\n",
              "      <td>2017.000000</td>\n",
              "      <td>1001.00000</td>\n",
              "      <td>16.000000</td>\n",
              "      <td>4.000000</td>\n",
              "      <td>354.000000</td>\n",
              "      <td>137.000000</td>\n",
              "      <td>5657.000000</td>\n",
              "      <td>2.065902e+06</td>\n",
              "    </tr>\n",
              "  </tbody>\n",
              "</table>\n",
              "</div>"
            ],
            "text/plain": [
              "               Year    Engine HP  ...    Popularity          MSRP\n",
              "count  11914.000000  11845.00000  ...  11914.000000  1.191400e+04\n",
              "mean    2010.384338    249.38607  ...   1554.911197  4.059474e+04\n",
              "std        7.579740    109.19187  ...   1441.855347  6.010910e+04\n",
              "min     1990.000000     55.00000  ...      2.000000  2.000000e+03\n",
              "25%     2007.000000    170.00000  ...    549.000000  2.100000e+04\n",
              "50%     2015.000000    227.00000  ...   1385.000000  2.999500e+04\n",
              "75%     2016.000000    300.00000  ...   2009.000000  4.223125e+04\n",
              "max     2017.000000   1001.00000  ...   5657.000000  2.065902e+06\n",
              "\n",
              "[8 rows x 8 columns]"
            ]
          },
          "metadata": {},
          "execution_count": 7
        }
      ]
    },
    {
      "cell_type": "code",
      "metadata": {
        "colab": {
          "base_uri": "https://localhost:8080/",
          "height": 464
        },
        "id": "1hQn123tgTMC",
        "outputId": "720c7ae1-f36e-4c2a-fcb3-b77feb8c052a"
      },
      "source": [
        "df.hist( )\n"
      ],
      "execution_count": 8,
      "outputs": [
        {
          "output_type": "execute_result",
          "data": {
            "text/plain": [
              "array([[<matplotlib.axes._subplots.AxesSubplot object at 0x7f6b921a1710>,\n",
              "        <matplotlib.axes._subplots.AxesSubplot object at 0x7f6b920e6590>,\n",
              "        <matplotlib.axes._subplots.AxesSubplot object at 0x7f6b920a5190>],\n",
              "       [<matplotlib.axes._subplots.AxesSubplot object at 0x7f6b920d9810>,\n",
              "        <matplotlib.axes._subplots.AxesSubplot object at 0x7f6b9208ee90>,\n",
              "        <matplotlib.axes._subplots.AxesSubplot object at 0x7f6b92050550>],\n",
              "       [<matplotlib.axes._subplots.AxesSubplot object at 0x7f6b92005c50>,\n",
              "        <matplotlib.axes._subplots.AxesSubplot object at 0x7f6b91fc5250>,\n",
              "        <matplotlib.axes._subplots.AxesSubplot object at 0x7f6b91fc5290>]],\n",
              "      dtype=object)"
            ]
          },
          "metadata": {},
          "execution_count": 8
        },
        {
          "output_type": "display_data",
          "data": {
            "image/png": "[encoded data removed]",
            "text/plain": [
              "<Figure size 432x288 with 9 Axes>"
            ]
          },
          "metadata": {
            "needs_background": "light"
          }
        }
      ]
    },
    {
      "cell_type": "code",
      "metadata": {
        "colab": {
          "base_uri": "https://localhost:8080/",
          "height": 828
        },
        "id": "bBStvpM2gWuz",
        "outputId": "68aba231-9928-455d-cf29-005d2bd4b119"
      },
      "source": [
        "\n",
        "new_df = df[df['Make']=='Volkswagen'] # in this new dataset we only take 'Volkswagen' Cars\n",
        "print(new_df.shape) # Viewing the new dataset shape\n",
        "print(new_df.isnull().sum()) # Is there any Null or Empty cell presents\n",
        "new_df = new_df.dropna() # Deleting the rows which have Empty cells\n",
        "print(new_df.shape) # After deletion Vewing the shape\n",
        "print(new_df.isnull().sum()) #Is there any Null or Empty cell presents\n",
        "new_df.sample(2) # Checking the random dataset sample"
      ],
      "execution_count": 9,
      "outputs": [
        {
          "output_type": "stream",
          "name": "stdout",
          "text": [
            "(809, 16)\n",
            "Make                   0\n",
            "Model                  0\n",
            "Year                   0\n",
            "Engine Fuel Type       0\n",
            "Engine HP              0\n",
            "Engine Cylinders       4\n",
            "Transmission Type      0\n",
            "Driven_Wheels          0\n",
            "Number of Doors        0\n",
            "Market Category      224\n",
            "Vehicle Size           0\n",
            "Vehicle Style          0\n",
            "highway MPG            0\n",
            "city mpg               0\n",
            "Popularity             0\n",
            "MSRP                   0\n",
            "dtype: int64\n",
            "(581, 16)\n",
            "Make                 0\n",
            "Model                0\n",
            "Year                 0\n",
            "Engine Fuel Type     0\n",
            "Engine HP            0\n",
            "Engine Cylinders     0\n",
            "Transmission Type    0\n",
            "Driven_Wheels        0\n",
            "Number of Doors      0\n",
            "Market Category      0\n",
            "Vehicle Size         0\n",
            "Vehicle Style        0\n",
            "highway MPG          0\n",
            "city mpg             0\n",
            "Popularity           0\n",
            "MSRP                 0\n",
            "dtype: int64\n"
          ]
        },
        {
          "output_type": "execute_result",
          "data": {
            "text/html": [
              "<div>\n",
              "<style scoped>\n",
              "    .dataframe tbody tr th:only-of-type {\n",
              "        vertical-align: middle;\n",
              "    }\n",
              "\n",
              "    .dataframe tbody tr th {\n",
              "        vertical-align: top;\n",
              "    }\n",
              "\n",
              "    .dataframe thead th {\n",
              "        text-align: right;\n",
              "    }\n",
              "</style>\n",
              "<table border=\"1\" class=\"dataframe\">\n",
              "  <thead>\n",
              "    <tr style=\"text-align: right;\">\n",
              "      <th></th>\n",
              "      <th>Make</th>\n",
              "      <th>Model</th>\n",
              "      <th>Year</th>\n",
              "      <th>Engine Fuel Type</th>\n",
              "      <th>Engine HP</th>\n",
              "      <th>Engine Cylinders</th>\n",
              "      <th>Transmission Type</th>\n",
              "      <th>Driven_Wheels</th>\n",
              "      <th>Number of Doors</th>\n",
              "      <th>Market Category</th>\n",
              "      <th>Vehicle Size</th>\n",
              "      <th>Vehicle Style</th>\n",
              "      <th>highway MPG</th>\n",
              "      <th>city mpg</th>\n",
              "      <th>Popularity</th>\n",
              "      <th>MSRP</th>\n",
              "    </tr>\n",
              "  </thead>\n",
              "  <tbody>\n",
              "    <tr>\n",
              "      <th>1913</th>\n",
              "      <td>Volkswagen</td>\n",
              "      <td>Beetle</td>\n",
              "      <td>2015</td>\n",
              "      <td>regular unleaded</td>\n",
              "      <td>170.0</td>\n",
              "      <td>4.0</td>\n",
              "      <td>AUTOMATIC</td>\n",
              "      <td>front wheel drive</td>\n",
              "      <td>2.0</td>\n",
              "      <td>Hatchback</td>\n",
              "      <td>Compact</td>\n",
              "      <td>2dr Hatchback</td>\n",
              "      <td>33</td>\n",
              "      <td>25</td>\n",
              "      <td>873</td>\n",
              "      <td>24705</td>\n",
              "    </tr>\n",
              "    <tr>\n",
              "      <th>2410</th>\n",
              "      <td>Volkswagen</td>\n",
              "      <td>CC</td>\n",
              "      <td>2016</td>\n",
              "      <td>premium unleaded (recommended)</td>\n",
              "      <td>200.0</td>\n",
              "      <td>4.0</td>\n",
              "      <td>AUTOMATED_MANUAL</td>\n",
              "      <td>front wheel drive</td>\n",
              "      <td>4.0</td>\n",
              "      <td>Performance</td>\n",
              "      <td>Midsize</td>\n",
              "      <td>Sedan</td>\n",
              "      <td>31</td>\n",
              "      <td>22</td>\n",
              "      <td>873</td>\n",
              "      <td>37820</td>\n",
              "    </tr>\n",
              "  </tbody>\n",
              "</table>\n",
              "</div>"
            ],
            "text/plain": [
              "            Make   Model  Year  ... city mpg  Popularity   MSRP\n",
              "1913  Volkswagen  Beetle  2015  ...       25         873  24705\n",
              "2410  Volkswagen      CC  2016  ...       22         873  37820\n",
              "\n",
              "[2 rows x 16 columns]"
            ]
          },
          "metadata": {},
          "execution_count": 9
        }
      ]
    },
    {
      "cell_type": "code",
      "metadata": {
        "colab": {
          "base_uri": "https://localhost:8080/",
          "height": 204
        },
        "id": "dRJ8rV8Vgb35",
        "outputId": "acd3750d-a27d-4ffa-f530-fd0359b7abc9"
      },
      "source": [
        "new_df = new_df[['Engine HP','MSRP']] # We only take the 'Engine HP' and 'MSRP' columns\n",
        "new_df.sample(5) # Checking the random dataset sample"
      ],
      "execution_count": 10,
      "outputs": [
        {
          "output_type": "execute_result",
          "data": {
            "text/html": [
              "<div>\n",
              "<style scoped>\n",
              "    .dataframe tbody tr th:only-of-type {\n",
              "        vertical-align: middle;\n",
              "    }\n",
              "\n",
              "    .dataframe tbody tr th {\n",
              "        vertical-align: top;\n",
              "    }\n",
              "\n",
              "    .dataframe thead th {\n",
              "        text-align: right;\n",
              "    }\n",
              "</style>\n",
              "<table border=\"1\" class=\"dataframe\">\n",
              "  <thead>\n",
              "    <tr style=\"text-align: right;\">\n",
              "      <th></th>\n",
              "      <th>Engine HP</th>\n",
              "      <th>MSRP</th>\n",
              "    </tr>\n",
              "  </thead>\n",
              "  <tbody>\n",
              "    <tr>\n",
              "      <th>10533</th>\n",
              "      <td>240.0</td>\n",
              "      <td>56670</td>\n",
              "    </tr>\n",
              "    <tr>\n",
              "      <th>1893</th>\n",
              "      <td>210.0</td>\n",
              "      <td>28115</td>\n",
              "    </tr>\n",
              "    <tr>\n",
              "      <th>7549</th>\n",
              "      <td>444.0</td>\n",
              "      <td>101300</td>\n",
              "    </tr>\n",
              "    <tr>\n",
              "      <th>2961</th>\n",
              "      <td>178.0</td>\n",
              "      <td>2000</td>\n",
              "    </tr>\n",
              "    <tr>\n",
              "      <th>5337</th>\n",
              "      <td>200.0</td>\n",
              "      <td>26695</td>\n",
              "    </tr>\n",
              "  </tbody>\n",
              "</table>\n",
              "</div>"
            ],
            "text/plain": [
              "       Engine HP    MSRP\n",
              "10533      240.0   56670\n",
              "1893       210.0   28115\n",
              "7549       444.0  101300\n",
              "2961       178.0    2000\n",
              "5337       200.0   26695"
            ]
          },
          "metadata": {},
          "execution_count": 10
        }
      ]
    },
    {
      "cell_type": "code",
      "metadata": {
        "colab": {
          "base_uri": "https://localhost:8080/"
        },
        "id": "XY2H5Qm0gh0I",
        "outputId": "0dd8977b-9f61-4d15-c0c6-32293946eef7"
      },
      "source": [
        "X = np.array(new_df[['Engine HP']]) # Storing into X the 'Engine HP' as np.array\n",
        "y = np.array(new_df[['MSRP']]) # Storing into y the 'MSRP' as np.array\n",
        "print(X.shape) # Vewing the shape of X\n",
        "print(y.shape) # Vewing the shape of y"
      ],
      "execution_count": 11,
      "outputs": [
        {
          "output_type": "stream",
          "name": "stdout",
          "text": [
            "(581, 1)\n",
            "(581, 1)\n"
          ]
        }
      ]
    },
    {
      "cell_type": "code",
      "metadata": {
        "colab": {
          "base_uri": "https://localhost:8080/",
          "height": 295
        },
        "id": "Q9AQQyLcgi8P",
        "outputId": "ba153fa3-34b6-4939-f91b-cb5b98574b61"
      },
      "source": [
        "plt.scatter(X,y,color=\"blue\") # Plot a graph X vs y\n",
        "plt.title('HP vs MSRP')\n",
        "plt.xlabel('HP')\n",
        "plt.ylabel('MSRP')\n",
        "plt.show()"
      ],
      "execution_count": 12,
      "outputs": [
        {
          "output_type": "display_data",
          "data": {
            "image/png": "[encoded data removed]",
            "text/plain": [
              "<Figure size 432x288 with 1 Axes>"
            ]
          },
          "metadata": {
            "needs_background": "light"
          }
        }
      ]
    },
    {
      "cell_type": "code",
      "metadata": {
        "colab": {
          "base_uri": "https://localhost:8080/"
        },
        "id": "TZrK3PBugmf-",
        "outputId": "b937504f-cbc5-404d-c833-b4d4a3bdb9e5"
      },
      "source": [
        "X_train,X_test,y_train,y_test = train_test_split(X,y,test_size = 0.25,random_state=15) # Spliting into train & test dataset\n",
        "regressor = LinearRegression() # Creating a regressior\n",
        "regressor.fit(X_train,y_train) # Fitting the dataset into the model"
      ],
      "execution_count": 13,
      "outputs": [
        {
          "output_type": "execute_result",
          "data": {
            "text/plain": [
              "LinearRegression(copy_X=True, fit_intercept=True, n_jobs=None, normalize=False)"
            ]
          },
          "metadata": {},
          "execution_count": 13
        }
      ]
    },
    {
      "cell_type": "code",
      "metadata": {
        "colab": {
          "base_uri": "https://localhost:8080/",
          "height": 295
        },
        "id": "b3LVxf7CgqGV",
        "outputId": "5b42c889-104d-450c-fc32-78b9c2698acb"
      },
      "source": [
        "plt.scatter(X_test,y_test,color=\"blue\") # Plot a graph with X_test vs y_test\n",
        "plt.plot(X_train,regressor.predict(X_train),color=\"yellow\",linewidth=3) # Regressior line showing\n",
        "plt.title('Regression(Test Set)')\n",
        "plt.xlabel('HP')\n",
        "plt.ylabel('MSRP')\n",
        "plt.show()"
      ],
      "execution_count": 14,
      "outputs": [
        {
          "output_type": "display_data",
          "data": {
            "image/png": "[encoded data removed]",
            "text/plain": [
              "<Figure size 432x288 with 1 Axes>"
            ]
          },
          "metadata": {
            "needs_background": "light"
          }
        }
      ]
    },
    {
      "cell_type": "code",
      "metadata": {
        "colab": {
          "base_uri": "https://localhost:8080/",
          "height": 295
        },
        "id": "hYun2D7bgtjS",
        "outputId": "b41c68e0-e3d4-4bb8-cff1-1f57a0b88e1a"
      },
      "source": [
        "plt.scatter(X_train,y_train,color=\"yellow\")  # Plot a graph with X_train vs y_train\n",
        "plt.plot(X_train,regressor.predict(X_train),color=\"black\",linewidth=4) # Regressior line showing\n",
        "plt.title('Regression(training Set)')\n",
        "plt.xlabel('HP')\n",
        "plt.ylabel('MSRP')\n",
        "plt.show()"
      ],
      "execution_count": 15,
      "outputs": [
        {
          "output_type": "display_data",
          "data": {
            "image/png": "[encoded data removed]",
            "text/plain": [
              "<Figure size 432x288 with 1 Axes>"
            ]
          },
          "metadata": {
            "needs_background": "light"
          }
        }
      ]
    },
    {
      "cell_type": "code",
      "metadata": {
        "colab": {
          "base_uri": "https://localhost:8080/"
        },
        "id": "Rad6jSktgw0K",
        "outputId": "b867b6a0-d678-45d9-e264-785ba6ba783e"
      },
      "source": [
        "y_pred = regressor.predict(X_test)\n",
        "print('R2 score: %.2f' % r2_score(y_test,y_pred)) # Printing R2 Score\n",
        "print('Mean squared Error :',mean_squared_error(y_test,y_pred)) # Printing the mean error"
      ],
      "execution_count": 16,
      "outputs": [
        {
          "output_type": "stream",
          "name": "stdout",
          "text": [
            "R2 score: 0.73\n",
            "Mean squared Error : 55796476.51179164\n"
          ]
        }
      ]
    },
    {
      "cell_type": "code",
      "metadata": {
        "colab": {
          "base_uri": "https://localhost:8080/"
        },
        "id": "F7fVLsvBg0eR",
        "outputId": "d6d480ea-fe63-48f1-f3da-9eedb224df66"
      },
      "source": [
        "def car_price(hp): # A function to predict the price according to Horsepower\n",
        "    result = regressor.predict(np.array(hp).reshape(1, -1))\n",
        "    return(result[0,0])\n",
        "\n",
        "car_hp = int(input('Enter Volkswagen cars Horse Power : '))\n",
        "print('This Volkswagen Prce will be : ',int(car_price(car_hp))*69,'₹')\n"
      ],
      "execution_count": 17,
      "outputs": [
        {
          "output_type": "stream",
          "name": "stdout",
          "text": [
            "Enter Volkswagen cars Horse Power : 78\n",
            "This Volkswagen Prce will be :  651498 ₹\n"
          ]
        }
      ]
    },
    {
      "cell_type": "markdown",
      "metadata": {
        "id": "1mDDkJtQepPn"
      },
      "source": [
        ""
      ]
    }
  ]
}